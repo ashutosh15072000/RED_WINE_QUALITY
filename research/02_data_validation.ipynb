{
 "cells": [
  {
   "cell_type": "code",
   "execution_count": 2,
   "metadata": {},
   "outputs": [],
   "source": [
    "import os"
   ]
  },
  {
   "cell_type": "code",
   "execution_count": 3,
   "metadata": {},
   "outputs": [
    {
     "data": {
      "text/plain": [
       "'a:\\\\MlProject\\\\RED_WINE_QUALITY\\\\research'"
      ]
     },
     "execution_count": 3,
     "metadata": {},
     "output_type": "execute_result"
    }
   ],
   "source": [
    "%pwd"
   ]
  },
  {
   "cell_type": "code",
   "execution_count": 4,
   "metadata": {},
   "outputs": [],
   "source": [
    "os.chdir('../')"
   ]
  },
  {
   "cell_type": "code",
   "execution_count": 5,
   "metadata": {},
   "outputs": [
    {
     "data": {
      "text/plain": [
       "'a:\\\\MlProject\\\\RED_WINE_QUALITY'"
      ]
     },
     "execution_count": 5,
     "metadata": {},
     "output_type": "execute_result"
    }
   ],
   "source": [
    "%pwd"
   ]
  },
  {
   "cell_type": "code",
   "execution_count": 6,
   "metadata": {},
   "outputs": [],
   "source": [
    "from dataclasses import dataclass\n",
    "from pathlib import Path\n",
    "\n",
    "@dataclass(frozen=True)\n",
    "class DataValidationConfig:\n",
    "    root_dir: Path\n",
    "    status_file: str\n",
    "    unzip_data_dir: Path\n",
    "    all_schema: dict\n",
    "\n",
    "@dataclass(frozen=True)\n",
    "class DataIngestionConfig:\n",
    "    root_dir: Path\n",
    "    source_url: str\n",
    "    local_data_file: Path\n",
    "    unzip_dir: Path\n"
   ]
  },
  {
   "cell_type": "code",
   "execution_count": 7,
   "metadata": {},
   "outputs": [],
   "source": [
    "\n",
    "from Red_Wine_Quality.constants.constant import *\n",
    "from Red_Wine_Quality.utils.common import read_yaml, create_directories\n"
   ]
  },
  {
   "cell_type": "code",
   "execution_count": 8,
   "metadata": {},
   "outputs": [],
   "source": [
    "class ConfigurationManager:\n",
    "    def __init__(\n",
    "        self,\n",
    "        config_filepath = CONFIG_FILE_PATH,\n",
    "        params_filepath = PARAMS_FILE_PATH,\n",
    "        schema_filepath = SCHEMA_FILE_PATH):\n",
    "\n",
    "        self.config = read_yaml(config_filepath)\n",
    "        self.params = read_yaml(params_filepath)\n",
    "        self.schema = read_yaml(schema_filepath)\n",
    "\n",
    "        create_directories([self.config.artifacts_root])\n",
    "        \n",
    "\n",
    "    def get_data_ingestion_config(self) -> DataIngestionConfig:\n",
    "        config = self.config.data_ingestion\n",
    "\n",
    "        create_directories([config.root_dir])\n",
    "\n",
    "        data_ingestion_config = DataIngestionConfig(\n",
    "            root_dir=config.root_dir,\n",
    "            source_url=config.source_url,\n",
    "            local_data_file=config.local_data_file,\n",
    "            unzip_dir=config.unzip_dir \n",
    "        )\n",
    "\n",
    "        return data_ingestion_config\n",
    "\n",
    "    def get_data_validation_config(self) -> DataValidationConfig:\n",
    "        config=self.config.data_validation\n",
    "        schema=self.schema.COLUMNS\n",
    "\n",
    "        create_directories([config.root_dir])\n",
    "\n",
    "        data_validation_config=DataValidationConfig(\n",
    "            root_dir=config.root_dir,\n",
    "            status_file=config.status_file,\n",
    "            all_schema=schema,\n",
    "            unzip_data_dir=config.unzip_data_dir\n",
    "        )\n",
    "\n",
    "\n",
    "        return data_validation_config"
   ]
  },
  {
   "cell_type": "code",
   "execution_count": 9,
   "metadata": {},
   "outputs": [],
   "source": [
    "import os \n",
    "from Red_Wine_Quality.logging.logger import logger\n",
    "import pandas as pd"
   ]
  },
  {
   "cell_type": "code",
   "execution_count": 18,
   "metadata": {},
   "outputs": [],
   "source": [
    "class DataValidation():\n",
    "    def __init__(self,config: DataValidationConfig):\n",
    "        self.config=config\n",
    "\n",
    "    def validate_all_columns(self)-> bool:\n",
    "        try:\n",
    "            validate_col_status=None\n",
    "            data=pd.read_csv(self.config.unzip_data_dir)\n",
    "            all_cols=list(data.columns)\n",
    "            all_schema=self.config.all_schema.keys()\n",
    "            \n",
    "\n",
    "            for col in all_cols:\n",
    "                if col not in all_schema:\n",
    "                    validate_col_status=False\n",
    "                    \n",
    "                    with open(self.config.status_file,'a') as f:\n",
    "                        f.write(f\"Validation(DATA) {col} Status: {validate_col_status}\\n\")\n",
    "                else:\n",
    "                    validate_col_status=True\n",
    "                    with open(self.config.status_file,'a') as f:\n",
    "                        f.write(f\"Validation(DATA) {col} Status: {validate_col_status} \\n\")\n",
    "            \n",
    "        \n",
    "            return validate_col_status\n",
    "        except Exception as e:\n",
    "            raise e\n",
    "\n",
    "    def validate_all_data_types(self) -> bool:\n",
    "        try:\n",
    "            validate_dtype_status=None\n",
    "            data=pd.read_csv(self.config.unzip_data_dir)\n",
    "            all_dtpyes=list(data.dtypes)\n",
    "            all_schema=self.config.all_schema\n",
    "\n",
    "            list_schema_key=list(self.config.all_schema.keys())\n",
    "            col=0\n",
    "            for dtype in (all_dtpyes):\n",
    "                \n",
    "                if dtype not in all_schema.values():\n",
    "                    validate_dtype_status=False\n",
    "                    with open(self.config.status_file,'a') as f:\n",
    "                        f.write(f\"Validation(DTPYE) of {list_schema_key[col]} and dtpye {dtype} Status: {validate_dtype_status}\\n\")\n",
    "                else:\n",
    "                    validate_dtype_status=True\n",
    "                    with open(self.config.status_file,'a') as f:\n",
    "                        f.write(f\"Validation(DTYPE) of {list_schema_key[col]} and dtpye {dtype} Status: {validate_dtype_status}\\n\")\n",
    "                col=col+1\n",
    "            \n",
    "            \n",
    "\n",
    "            return validate_dtype_status\n",
    "        except Exception as e:\n",
    "            raise e\n",
    "\n",
    "\n",
    "\n",
    "\n",
    "\n",
    "\n",
    "\n",
    "\n",
    "\n",
    "    "
   ]
  },
  {
   "cell_type": "code",
   "execution_count": 19,
   "metadata": {},
   "outputs": [
    {
     "name": "stdout",
     "output_type": "stream",
     "text": [
      "[2024-04-24 13:45:33,564: INFO: common: yaml file: A:\\MlProject\\RED_WINE_QUALITY\\config\\config.yaml loaded successfully]\n",
      "[2024-04-24 13:45:33,566: INFO: common: yaml file: A:\\MlProject\\RED_WINE_QUALITY\\params.yaml loaded successfully]\n",
      "[2024-04-24 13:45:33,569: INFO: common: yaml file: A:\\MlProject\\RED_WINE_QUALITY\\schema.yaml loaded successfully]\n",
      "[2024-04-24 13:45:33,571: INFO: common: created directory at: artifacts]\n",
      "[2024-04-24 13:45:33,571: INFO: common: created directory at: artifacts/data_validation]\n"
     ]
    }
   ],
   "source": [
    "try:\n",
    "    config=ConfigurationManager()\n",
    "    data_validation_config=config.get_data_validation_config()\n",
    "    data_validation=DataValidation(config=data_validation_config)\n",
    "    data_validation.validate_all_columns()\n",
    "    data_validation.validate_all_data_types()\n",
    "except Exception as e:\n",
    "    raise e    "
   ]
  },
  {
   "cell_type": "code",
   "execution_count": null,
   "metadata": {},
   "outputs": [],
   "source": []
  },
  {
   "cell_type": "code",
   "execution_count": null,
   "metadata": {},
   "outputs": [],
   "source": []
  },
  {
   "cell_type": "code",
   "execution_count": null,
   "metadata": {},
   "outputs": [],
   "source": []
  }
 ],
 "metadata": {
  "kernelspec": {
   "display_name": "redwineenv",
   "language": "python",
   "name": "python3"
  },
  "language_info": {
   "codemirror_mode": {
    "name": "ipython",
    "version": 3
   },
   "file_extension": ".py",
   "mimetype": "text/x-python",
   "name": "python",
   "nbconvert_exporter": "python",
   "pygments_lexer": "ipython3",
   "version": "3.10.14"
  }
 },
 "nbformat": 4,
 "nbformat_minor": 2
}
